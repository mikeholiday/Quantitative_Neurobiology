{
 "cells": [
  {
   "cell_type": "code",
   "execution_count": 1,
   "id": "d80e37aa-6e64-4384-85e3-c1dd22541004",
   "metadata": {
    "execution": {
     "iopub.execute_input": "2022-02-21T23:39:04.699849Z",
     "iopub.status.busy": "2022-02-21T23:39:04.699062Z",
     "iopub.status.idle": "2022-02-21T23:39:05.482213Z",
     "shell.execute_reply": "2022-02-21T23:39:05.481917Z",
     "shell.execute_reply.started": "2022-02-21T23:39:04.699673Z"
    },
    "tags": []
   },
   "outputs": [],
   "source": [
    "import scipy.io as sci\n",
    "import numpy as np \n",
    "import pandas as pd\n",
    "import matplotlib.pyplot as plt\n",
    "\n",
    "from skimage.measure import block_reduce\n",
    "import statsmodels.api as sm\n",
    "from statsmodels.formula.api import ols\n",
    "import multiprocess as mp\n",
    "\n",
    "%matplotlib inline \n",
    "%config Completer.use_jedi = False"
   ]
  },
  {
   "cell_type": "code",
   "execution_count": 2,
   "id": "78ee9ac5-5fef-40f1-8547-51da19dc30f6",
   "metadata": {
    "execution": {
     "iopub.execute_input": "2022-02-21T23:39:05.483134Z",
     "iopub.status.busy": "2022-02-21T23:39:05.483030Z",
     "iopub.status.idle": "2022-02-21T23:39:07.573688Z",
     "shell.execute_reply": "2022-02-21T23:39:07.573376Z",
     "shell.execute_reply.started": "2022-02-21T23:39:05.483124Z"
    },
    "tags": []
   },
   "outputs": [],
   "source": [
    "data = sci.loadmat('DirectionTuning_V1_dec.mat')['data']\n",
    "dirTuningExp = sci.loadmat('DirectionTuning_V1_dec.mat')['dirTuningExp']\n",
    "\n",
    "## shape of the data\n",
    "Nvert, Nhorz, Nframes = data.shape\n",
    "labels = -1 * np.ones([Nframes, 1])\n",
    "codes = dirTuningExp['tGratingDirectionDeg'][0][0][0]\n",
    "Ntrials = dirTuningExp['nTrials'][0][0][0][0]\n",
    "Noff = dirTuningExp['stimOffFrames'][0][0][0][0]\n",
    "Non = dirTuningExp['stimOnFrames'][0][0][0][0]\n",
    "\n",
    "offset = 0\n",
    "for i in range(Ntrials):\n",
    "    offset = offset + Noff\n",
    "    labels[offset + np.array(range(Non))] = codes[i]\n",
    "    offset = offset + Non"
   ]
  },
  {
   "cell_type": "code",
   "execution_count": 3,
   "id": "61d6e031-a9c9-458e-8fbf-b496722b5910",
   "metadata": {
    "execution": {
     "iopub.execute_input": "2022-02-21T23:39:07.574148Z",
     "iopub.status.busy": "2022-02-21T23:39:07.574086Z",
     "iopub.status.idle": "2022-02-21T23:39:07.664716Z",
     "shell.execute_reply": "2022-02-21T23:39:07.664310Z",
     "shell.execute_reply.started": "2022-02-21T23:39:07.574140Z"
    },
    "tags": []
   },
   "outputs": [],
   "source": [
    "# Extracts stim/off frames based on \"labels\" and calculates mean across trials ... every 6/12 frames respectively\n",
    "baseline_stim_frames = block_reduce(data[:, :, np.where(labels != -1)[0]], block_size=(1,1,6), func=np.mean)\n",
    "baseline_off_frames = block_reduce(data[:, :, np.where(labels == -1)[0]], block_size=(1,1,12), func=np.mean)\n",
    "difference_images = baseline_stim_frames - baseline_off_frames"
   ]
  },
  {
   "cell_type": "code",
   "execution_count": 4,
   "id": "eb28106c-e8e4-46d6-8d86-12bb9b763da4",
   "metadata": {
    "execution": {
     "iopub.execute_input": "2022-02-21T23:39:07.665264Z",
     "iopub.status.busy": "2022-02-21T23:39:07.665181Z",
     "iopub.status.idle": "2022-02-21T23:39:07.667341Z",
     "shell.execute_reply": "2022-02-21T23:39:07.666980Z",
     "shell.execute_reply.started": "2022-02-21T23:39:07.665255Z"
    },
    "tags": []
   },
   "outputs": [],
   "source": [
    "orientation_values = codes.astype(int)\n",
    "orientations = np.unique(orientation_values)"
   ]
  },
  {
   "cell_type": "code",
   "execution_count": 5,
   "id": "96a94b7b-28f7-42a6-ad66-90e718cb618b",
   "metadata": {
    "execution": {
     "iopub.execute_input": "2022-02-21T23:39:07.668603Z",
     "iopub.status.busy": "2022-02-21T23:39:07.668536Z",
     "iopub.status.idle": "2022-02-21T23:39:07.671313Z",
     "shell.execute_reply": "2022-02-21T23:39:07.671097Z",
     "shell.execute_reply.started": "2022-02-21T23:39:07.668595Z"
    },
    "tags": []
   },
   "outputs": [],
   "source": [
    "alpha = 0.05\n",
    "tuning_cutoff = 0.33 \n",
    "\n",
    "def tuning_anova(diff_image):\n",
    "    temp_orientation = pd.DataFrame({\"Difference_image\": diff_image, \"Orientation\":orientation_values}) \n",
    "    p_value = sm.stats.anova_lm(ols('Difference_image ~ C(Orientation)', data=temp_orientation).fit(), typ=2)['PR(>F)'][0]\n",
    "    if p_value >= alpha: return np.nan\n",
    "    else:\n",
    "        max_activation = orientation_values[diff_image.argmax()]\n",
    "        preferred_activation = diff_image[orientation_values == max_activation].mean()\n",
    "        orthogonal_activation = diff_image[orientation_values == abs(max_activation-180)].mean()\n",
    "        tuning_index = 1 - (orthogonal_activation/preferred_activation)\n",
    "        tuning_index = 1\n",
    "        \n",
    "        if (tuning_index > tuning_cutoff): return max_activation\n",
    "        else: return np.nan"
   ]
  },
  {
   "cell_type": "code",
   "execution_count": null,
   "id": "e9b3427c-1978-42b7-aded-366f530babaf",
   "metadata": {},
   "outputs": [],
   "source": []
  },
  {
   "cell_type": "code",
   "execution_count": 6,
   "id": "5f5c67ee-ca77-45f6-bc7e-57b758454c44",
   "metadata": {
    "execution": {
     "iopub.execute_input": "2022-02-21T23:39:07.671788Z",
     "iopub.status.busy": "2022-02-21T23:39:07.671697Z",
     "iopub.status.idle": "2022-02-21T23:39:23.497153Z",
     "shell.execute_reply": "2022-02-21T23:39:23.496777Z",
     "shell.execute_reply.started": "2022-02-21T23:39:07.671779Z"
    },
    "scrolled": true,
    "tags": []
   },
   "outputs": [],
   "source": [
    "with mp.Pool(10) as pool:\n",
    "    # Flattening difference image and casting function to calculate preferred direction \n",
    "    output = np.array(pool.map(tuning_anova, difference_images.reshape(-1, difference_images.shape[2])))"
   ]
  },
  {
   "cell_type": "code",
   "execution_count": 7,
   "id": "47b9971a-abef-4a3c-81a3-40ece31e748e",
   "metadata": {
    "execution": {
     "iopub.execute_input": "2022-02-21T23:39:23.497790Z",
     "iopub.status.busy": "2022-02-21T23:39:23.497726Z",
     "iopub.status.idle": "2022-02-21T23:39:23.500124Z",
     "shell.execute_reply": "2022-02-21T23:39:23.499859Z",
     "shell.execute_reply.started": "2022-02-21T23:39:23.497780Z"
    },
    "tags": []
   },
   "outputs": [],
   "source": [
    "# Unflattenning image \n",
    "preferred_img = output.reshape(difference_images.shape[0], difference_images.shape[1])"
   ]
  },
  {
   "cell_type": "code",
   "execution_count": 8,
   "id": "78f7b977-61df-4e9f-9520-6cb7f3616ce8",
   "metadata": {
    "execution": {
     "iopub.execute_input": "2022-02-21T23:39:23.500604Z",
     "iopub.status.busy": "2022-02-21T23:39:23.500541Z",
     "iopub.status.idle": "2022-02-21T23:39:23.605877Z",
     "shell.execute_reply": "2022-02-21T23:39:23.600458Z",
     "shell.execute_reply.started": "2022-02-21T23:39:23.500596Z"
    },
    "tags": []
   },
   "outputs": [
    {
     "name": "stderr",
     "output_type": "stream",
     "text": [
      "/var/folders/9l/35n9s6_s0f3bmw4yz19gz84w0000gn/T/ipykernel_58649/56464190.py:6: UserWarning: FixedFormatter should only be used together with FixedLocator\n",
      "  cbar.ax.set_yticklabels(orientations.astype(str))\n"
     ]
    },
    {
     "data": {
      "image/png": "[encoded data removed]",
      "text/plain": [
       "<Figure size 432x288 with 2 Axes>"
      ]
     },
     "metadata": {
      "needs_background": "light"
     },
     "output_type": "display_data"
    }
   ],
   "source": [
    "from matplotlib import cm\n",
    "fig, ax = plt.subplots()\n",
    "cmap = cm.get_cmap('jet', orientations.shape[0])\n",
    "cax = ax.imshow(preferred_img, cmap = cmap, aspect = 'auto')\n",
    "cbar = fig.colorbar(cax)\n",
    "cbar.ax.set_yticklabels(orientations.astype(str))\n",
    "plt.show()"
   ]
  },
  {
   "cell_type": "code",
   "execution_count": null,
   "id": "44dc809d-ccba-47ae-afad-bf69e1d187a5",
   "metadata": {},
   "outputs": [],
   "source": []
  },
  {
   "cell_type": "raw",
   "id": "daab29f1-a944-4bff-bb93-4dc617f82aee",
   "metadata": {},
   "source": []
  },
  {
   "cell_type": "code",
   "execution_count": null,
   "id": "8124acab-52b2-446f-89dd-b2cecfe807a8",
   "metadata": {},
   "outputs": [],
   "source": []
  },
  {
   "cell_type": "code",
   "execution_count": null,
   "id": "66203c17-0807-4c5e-8d5e-6ee6f452a5c8",
   "metadata": {},
   "outputs": [],
   "source": []
  },
  {
   "cell_type": "code",
   "execution_count": null,
   "id": "c877398c-d656-4ca0-81e0-6f75d1ad947c",
   "metadata": {},
   "outputs": [],
   "source": []
  },
  {
   "cell_type": "code",
   "execution_count": null,
   "id": "e19b2200-1213-414c-a434-13b6f352d200",
   "metadata": {},
   "outputs": [],
   "source": []
  },
  {
   "cell_type": "code",
   "execution_count": null,
   "id": "4c2a1254-f27d-4af7-8fd2-1688e01c3320",
   "metadata": {},
   "outputs": [],
   "source": []
  }
 ],
 "metadata": {
  "kernelspec": {
   "display_name": "Quantitative_Neurobiology",
   "language": "python",
   "name": "quantitative_neurobiology"
  },
  "language_info": {
   "codemirror_mode": {
    "name": "ipython",
    "version": 3
   },
   "file_extension": ".py",
   "mimetype": "text/x-python",
   "name": "python",
   "nbconvert_exporter": "python",
   "pygments_lexer": "ipython3",
   "version": "3.10.0"
  }
 },
 "nbformat": 4,
 "nbformat_minor": 5
}
