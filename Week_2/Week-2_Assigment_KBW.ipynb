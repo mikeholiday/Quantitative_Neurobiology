{
 "cells": [
  {
   "cell_type": "code",
   "execution_count": 1,
   "id": "28c28c90-c421-4602-a5b7-51a4b9d1a168",
   "metadata": {
    "execution": {
     "iopub.execute_input": "2022-02-14T23:04:15.666030Z",
     "iopub.status.busy": "2022-02-14T23:04:15.665910Z",
     "iopub.status.idle": "2022-02-14T23:04:16.781203Z",
     "shell.execute_reply": "2022-02-14T23:04:16.780906Z",
     "shell.execute_reply.started": "2022-02-14T23:04:15.666001Z"
    },
    "tags": []
   },
   "outputs": [],
   "source": [
    "import pandas as pd\n",
    "import matplotlib.pyplot as plt\n",
    "import numpy as np\n",
    "\n",
    "import statsmodels.api as sm\n",
    "import scipy as stats\n",
    "import seaborn as sns \n",
    "\n",
    "%matplotlib inline \n",
    "%config Completer.use_jedi = False"
   ]
  },
  {
   "cell_type": "code",
   "execution_count": 2,
   "id": "42160b4f-8071-4266-a9d2-6485285ba7af",
   "metadata": {
    "execution": {
     "iopub.execute_input": "2022-02-14T23:04:16.781813Z",
     "iopub.status.busy": "2022-02-14T23:04:16.781714Z",
     "iopub.status.idle": "2022-02-14T23:04:16.785970Z",
     "shell.execute_reply": "2022-02-14T23:04:16.785719Z",
     "shell.execute_reply.started": "2022-02-14T23:04:16.781801Z"
    },
    "tags": []
   },
   "outputs": [],
   "source": [
    "ppv = pd.read_csv('ppv_data.csv')\n",
    "ppv_filtered = ppv[ppv['Ntot'] != 0]"
   ]
  },
  {
   "cell_type": "code",
   "execution_count": 3,
   "id": "80ac8e93-ed53-47ac-8d65-d6486d0e2e04",
   "metadata": {
    "execution": {
     "iopub.execute_input": "2022-02-14T23:04:16.787570Z",
     "iopub.status.busy": "2022-02-14T23:04:16.787450Z",
     "iopub.status.idle": "2022-02-14T23:04:16.817725Z",
     "shell.execute_reply": "2022-02-14T23:04:16.817000Z",
     "shell.execute_reply.started": "2022-02-14T23:04:16.787560Z"
    },
    "tags": []
   },
   "outputs": [],
   "source": [
    "def fit_model(img_subset):\n",
    "    j_img_trials = []\n",
    "    total_trials = []\n",
    "    for value in sorted(img_subset.dv.unique()):\n",
    "        j_img_trials.append(img_subset[img_subset['dv'] == value].Nimg.sum())\n",
    "        total_trials.append(img_subset[img_subset['dv'] == value].Ntot.sum())\n",
    "    dv_proportion = pd.DataFrame({'dv': sorted(img_subset.dv.unique()), \n",
    "                                  'Jimg': j_img_trials, \n",
    "                                  'Total':total_trials,\n",
    "                                 'Proportion':(np.array(j_img_trials)/np.array(total_trials))}) \n",
    "    glm_binom = sm.GLM(pd.DataFrame({'Success': dv_proportion.Jimg, 'Failure':(dv_proportion.Total - dv_proportion.Jimg)})\n",
    "                   , sm.add_constant(dv_proportion.dv, prepend = False), family = sm.families.Binomial()) \n",
    "    try: \n",
    "        res = glm_binom.fit() \n",
    "        test_dv = np.arange(dv_proportion.dv.min(), dv_proportion.dv.max(), 10)\n",
    "        pred = res.get_prediction(sm.add_constant(test_dv, prepend = False))\n",
    "    except:\n",
    "        return None\n",
    "    \n",
    "    Vimage = res.params.const/res.params.dv\n",
    "    if abs(Vimage) < 1000: return Vimage"
   ]
  },
  {
   "cell_type": "code",
   "execution_count": 4,
   "id": "a686a879-bfc5-4707-a4a8-e4013a901d6b",
   "metadata": {
    "execution": {
     "iopub.execute_input": "2022-02-14T23:04:16.819287Z",
     "iopub.status.busy": "2022-02-14T23:04:16.819158Z",
     "iopub.status.idle": "2022-02-14T23:04:19.208021Z",
     "shell.execute_reply": "2022-02-14T23:04:19.207757Z",
     "shell.execute_reply.started": "2022-02-14T23:04:16.819275Z"
    },
    "scrolled": true,
    "tags": []
   },
   "outputs": [
    {
     "name": "stderr",
     "output_type": "stream",
     "text": [
      "/Users/kbw29/.pyenv/versions/Quantitative_Neurobiology/lib/python3.10/site-packages/statsmodels/regression/_tools.py:121: RuntimeWarning: divide by zero encountered in double_scalars\n",
      "  scale = np.dot(wresid, wresid) / df_resid\n",
      "/Users/kbw29/.pyenv/versions/Quantitative_Neurobiology/lib/python3.10/site-packages/statsmodels/regression/_tools.py:121: RuntimeWarning: invalid value encountered in double_scalars\n",
      "  scale = np.dot(wresid, wresid) / df_resid\n"
     ]
    }
   ],
   "source": [
    "outputs = ppv_filtered.groupby(by = ['piccat', 'session']).apply(fit_model).reset_index(name = 'Vimage')"
   ]
  },
  {
   "cell_type": "code",
   "execution_count": 5,
   "id": "9011edf1-1d04-4470-bae5-868b664552cb",
   "metadata": {
    "execution": {
     "iopub.execute_input": "2022-02-14T23:04:19.208618Z",
     "iopub.status.busy": "2022-02-14T23:04:19.208549Z",
     "iopub.status.idle": "2022-02-14T23:04:19.215294Z",
     "shell.execute_reply": "2022-02-14T23:04:19.214927Z",
     "shell.execute_reply.started": "2022-02-14T23:04:19.208609Z"
    },
    "tags": []
   },
   "outputs": [
    {
     "data": {
      "text/html": [
       "<div>\n",
       "<style scoped>\n",
       "    .dataframe tbody tr th:only-of-type {\n",
       "        vertical-align: middle;\n",
       "    }\n",
       "\n",
       "    .dataframe tbody tr th {\n",
       "        vertical-align: top;\n",
       "    }\n",
       "\n",
       "    .dataframe thead th {\n",
       "        text-align: right;\n",
       "    }\n",
       "</style>\n",
       "<table border=\"1\" class=\"dataframe\">\n",
       "  <thead>\n",
       "    <tr style=\"text-align: right;\">\n",
       "      <th></th>\n",
       "      <th>piccat</th>\n",
       "      <th>session</th>\n",
       "      <th>Vimage</th>\n",
       "    </tr>\n",
       "  </thead>\n",
       "  <tbody>\n",
       "    <tr>\n",
       "      <th>0</th>\n",
       "      <td>1</td>\n",
       "      <td>1</td>\n",
       "      <td>-11.266769</td>\n",
       "    </tr>\n",
       "    <tr>\n",
       "      <th>1</th>\n",
       "      <td>1</td>\n",
       "      <td>2</td>\n",
       "      <td>13.133317</td>\n",
       "    </tr>\n",
       "    <tr>\n",
       "      <th>2</th>\n",
       "      <td>1</td>\n",
       "      <td>3</td>\n",
       "      <td>-16.439940</td>\n",
       "    </tr>\n",
       "    <tr>\n",
       "      <th>3</th>\n",
       "      <td>1</td>\n",
       "      <td>4</td>\n",
       "      <td>-18.917646</td>\n",
       "    </tr>\n",
       "    <tr>\n",
       "      <th>4</th>\n",
       "      <td>1</td>\n",
       "      <td>5</td>\n",
       "      <td>5.768114</td>\n",
       "    </tr>\n",
       "    <tr>\n",
       "      <th>...</th>\n",
       "      <td>...</td>\n",
       "      <td>...</td>\n",
       "      <td>...</td>\n",
       "    </tr>\n",
       "    <tr>\n",
       "      <th>788</th>\n",
       "      <td>4</td>\n",
       "      <td>202</td>\n",
       "      <td>21.317381</td>\n",
       "    </tr>\n",
       "    <tr>\n",
       "      <th>789</th>\n",
       "      <td>4</td>\n",
       "      <td>203</td>\n",
       "      <td>20.120622</td>\n",
       "    </tr>\n",
       "    <tr>\n",
       "      <th>790</th>\n",
       "      <td>4</td>\n",
       "      <td>204</td>\n",
       "      <td>1.912380</td>\n",
       "    </tr>\n",
       "    <tr>\n",
       "      <th>791</th>\n",
       "      <td>4</td>\n",
       "      <td>205</td>\n",
       "      <td>15.534830</td>\n",
       "    </tr>\n",
       "    <tr>\n",
       "      <th>792</th>\n",
       "      <td>4</td>\n",
       "      <td>206</td>\n",
       "      <td>NaN</td>\n",
       "    </tr>\n",
       "  </tbody>\n",
       "</table>\n",
       "<p>793 rows × 3 columns</p>\n",
       "</div>"
      ],
      "text/plain": [
       "     piccat  session     Vimage\n",
       "0         1        1 -11.266769\n",
       "1         1        2  13.133317\n",
       "2         1        3 -16.439940\n",
       "3         1        4 -18.917646\n",
       "4         1        5   5.768114\n",
       "..      ...      ...        ...\n",
       "788       4      202  21.317381\n",
       "789       4      203  20.120622\n",
       "790       4      204   1.912380\n",
       "791       4      205  15.534830\n",
       "792       4      206        NaN\n",
       "\n",
       "[793 rows x 3 columns]"
      ]
     },
     "execution_count": 5,
     "metadata": {},
     "output_type": "execute_result"
    }
   ],
   "source": [
    "outputs"
   ]
  },
  {
   "cell_type": "code",
   "execution_count": 6,
   "id": "3d717d4e-f4af-42ac-9406-35bfe55379c9",
   "metadata": {
    "execution": {
     "iopub.execute_input": "2022-02-14T23:04:19.215982Z",
     "iopub.status.busy": "2022-02-14T23:04:19.215908Z",
     "iopub.status.idle": "2022-02-14T23:04:19.285573Z",
     "shell.execute_reply": "2022-02-14T23:04:19.285331Z",
     "shell.execute_reply.started": "2022-02-14T23:04:19.215973Z"
    },
    "tags": []
   },
   "outputs": [
    {
     "data": {
      "text/plain": [
       "<AxesSubplot:xlabel='piccat', ylabel='Vimage'>"
      ]
     },
     "execution_count": 6,
     "metadata": {},
     "output_type": "execute_result"
    },
    {
     "data": {
      "image/png": "[encoded data removed]",
      "text/plain": [
       "<Figure size 432x288 with 1 Axes>"
      ]
     },
     "metadata": {
      "needs_background": "light"
     },
     "output_type": "display_data"
    }
   ],
   "source": [
    "sns.boxplot(x = 'piccat', y = 'Vimage', data = outputs)"
   ]
  },
  {
   "cell_type": "code",
   "execution_count": null,
   "id": "b5f28534-a3cc-427a-96ba-b0c45d11920d",
   "metadata": {},
   "outputs": [],
   "source": []
  },
  {
   "cell_type": "code",
   "execution_count": null,
   "id": "3ab75138-c37f-4820-ac3a-d996ce62ed81",
   "metadata": {},
   "outputs": [],
   "source": []
  }
 ],
 "metadata": {
  "kernelspec": {
   "display_name": "Quantitative_Neurobiology",
   "language": "python",
   "name": "quantitative_neurobiology"
  },
  "language_info": {
   "codemirror_mode": {
    "name": "ipython",
    "version": 3
   },
   "file_extension": ".py",
   "mimetype": "text/x-python",
   "name": "python",
   "nbconvert_exporter": "python",
   "pygments_lexer": "ipython3",
   "version": "3.10.0"
  }
 },
 "nbformat": 4,
 "nbformat_minor": 5
}
