{
 "cells": [
  {
   "cell_type": "code",
   "execution_count": 1,
   "id": "fb8c39cb-1f29-4112-a907-7a7cfe840dab",
   "metadata": {
    "execution": {
     "iopub.execute_input": "2022-02-08T02:48:23.841329Z",
     "iopub.status.busy": "2022-02-08T02:48:23.841140Z",
     "iopub.status.idle": "2022-02-08T02:48:24.464299Z",
     "shell.execute_reply": "2022-02-08T02:48:24.463968Z",
     "shell.execute_reply.started": "2022-02-08T02:48:23.841277Z"
    },
    "tags": []
   },
   "outputs": [],
   "source": [
    "import pandas as pd\n",
    "import matplotlib.pyplot as plt\n",
    "import numpy as np\n",
    "\n",
    "%matplotlib inline \n",
    "%config Completer.use_jedi = False"
   ]
  },
  {
   "cell_type": "code",
   "execution_count": 3,
   "id": "f4b227f1-c2ab-4012-9857-3f968370ceff",
   "metadata": {
    "execution": {
     "iopub.execute_input": "2022-02-08T02:48:24.471265Z",
     "iopub.status.busy": "2022-02-08T02:48:24.471183Z",
     "iopub.status.idle": "2022-02-08T02:48:24.473245Z",
     "shell.execute_reply": "2022-02-08T02:48:24.472887Z",
     "shell.execute_reply.started": "2022-02-08T02:48:24.471256Z"
    },
    "tags": []
   },
   "outputs": [],
   "source": [
    "# Average firing rate smoothed using 60 msec running mean \n",
    "# Only correct choices were included "
   ]
  },
  {
   "cell_type": "code",
   "execution_count": 4,
   "id": "5c67ae7b-9bea-4294-ac6c-185949a82900",
   "metadata": {
    "execution": {
     "iopub.execute_input": "2022-02-08T02:48:24.473795Z",
     "iopub.status.busy": "2022-02-08T02:48:24.473723Z",
     "iopub.status.idle": "2022-02-08T02:48:24.562887Z",
     "shell.execute_reply": "2022-02-08T02:48:24.562614Z",
     "shell.execute_reply.started": "2022-02-08T02:48:24.473787Z"
    },
    "tags": []
   },
   "outputs": [],
   "source": [
    "roitman_data = pd.read_csv(\"roitman_data.csv\")\n",
    "max_time = roitman_data['time'].max() # why does python not have constant/static variables \n",
    "num_timepoints = int(max_time/5)"
   ]
  },
  {
   "cell_type": "code",
   "execution_count": 5,
   "id": "7c17254b-531b-4bee-83b8-4457cc01c114",
   "metadata": {
    "execution": {
     "iopub.execute_input": "2022-02-08T02:48:24.563477Z",
     "iopub.status.busy": "2022-02-08T02:48:24.563397Z",
     "iopub.status.idle": "2022-02-08T02:48:24.572049Z",
     "shell.execute_reply": "2022-02-08T02:48:24.571611Z",
     "shell.execute_reply.started": "2022-02-08T02:48:24.563468Z"
    },
    "tags": []
   },
   "outputs": [
    {
     "data": {
      "text/html": [
       "<div>\n",
       "<style scoped>\n",
       "    .dataframe tbody tr th:only-of-type {\n",
       "        vertical-align: middle;\n",
       "    }\n",
       "\n",
       "    .dataframe tbody tr th {\n",
       "        vertical-align: top;\n",
       "    }\n",
       "\n",
       "    .dataframe thead th {\n",
       "        text-align: right;\n",
       "    }\n",
       "</style>\n",
       "<table border=\"1\" class=\"dataframe\">\n",
       "  <thead>\n",
       "    <tr style=\"text-align: right;\">\n",
       "      <th></th>\n",
       "      <th>count</th>\n",
       "      <th>time</th>\n",
       "      <th>trial</th>\n",
       "      <th>stimulus</th>\n",
       "      <th>coherence</th>\n",
       "      <th>choice</th>\n",
       "      <th>correct</th>\n",
       "      <th>unit</th>\n",
       "      <th>into_RF</th>\n",
       "    </tr>\n",
       "  </thead>\n",
       "  <tbody>\n",
       "    <tr>\n",
       "      <th>0</th>\n",
       "      <td>0</td>\n",
       "      <td>0</td>\n",
       "      <td>1</td>\n",
       "      <td>71</td>\n",
       "      <td>0</td>\n",
       "      <td>1</td>\n",
       "      <td>1</td>\n",
       "      <td>107</td>\n",
       "      <td>1</td>\n",
       "    </tr>\n",
       "    <tr>\n",
       "      <th>1</th>\n",
       "      <td>0</td>\n",
       "      <td>0</td>\n",
       "      <td>22</td>\n",
       "      <td>71</td>\n",
       "      <td>0</td>\n",
       "      <td>1</td>\n",
       "      <td>1</td>\n",
       "      <td>107</td>\n",
       "      <td>1</td>\n",
       "    </tr>\n",
       "    <tr>\n",
       "      <th>2</th>\n",
       "      <td>0</td>\n",
       "      <td>0</td>\n",
       "      <td>31</td>\n",
       "      <td>71</td>\n",
       "      <td>0</td>\n",
       "      <td>1</td>\n",
       "      <td>1</td>\n",
       "      <td>107</td>\n",
       "      <td>1</td>\n",
       "    </tr>\n",
       "    <tr>\n",
       "      <th>3</th>\n",
       "      <td>0</td>\n",
       "      <td>0</td>\n",
       "      <td>46</td>\n",
       "      <td>71</td>\n",
       "      <td>0</td>\n",
       "      <td>1</td>\n",
       "      <td>1</td>\n",
       "      <td>107</td>\n",
       "      <td>1</td>\n",
       "    </tr>\n",
       "    <tr>\n",
       "      <th>4</th>\n",
       "      <td>0</td>\n",
       "      <td>0</td>\n",
       "      <td>61</td>\n",
       "      <td>71</td>\n",
       "      <td>0</td>\n",
       "      <td>1</td>\n",
       "      <td>1</td>\n",
       "      <td>107</td>\n",
       "      <td>1</td>\n",
       "    </tr>\n",
       "    <tr>\n",
       "      <th>...</th>\n",
       "      <td>...</td>\n",
       "      <td>...</td>\n",
       "      <td>...</td>\n",
       "      <td>...</td>\n",
       "      <td>...</td>\n",
       "      <td>...</td>\n",
       "      <td>...</td>\n",
       "      <td>...</td>\n",
       "      <td>...</td>\n",
       "    </tr>\n",
       "    <tr>\n",
       "      <th>514315</th>\n",
       "      <td>0</td>\n",
       "      <td>1040</td>\n",
       "      <td>17</td>\n",
       "      <td>81</td>\n",
       "      <td>0</td>\n",
       "      <td>2</td>\n",
       "      <td>1</td>\n",
       "      <td>129</td>\n",
       "      <td>0</td>\n",
       "    </tr>\n",
       "    <tr>\n",
       "      <th>514316</th>\n",
       "      <td>0</td>\n",
       "      <td>1040</td>\n",
       "      <td>58</td>\n",
       "      <td>81</td>\n",
       "      <td>0</td>\n",
       "      <td>2</td>\n",
       "      <td>1</td>\n",
       "      <td>129</td>\n",
       "      <td>0</td>\n",
       "    </tr>\n",
       "    <tr>\n",
       "      <th>514317</th>\n",
       "      <td>0</td>\n",
       "      <td>1040</td>\n",
       "      <td>67</td>\n",
       "      <td>81</td>\n",
       "      <td>0</td>\n",
       "      <td>2</td>\n",
       "      <td>1</td>\n",
       "      <td>129</td>\n",
       "      <td>0</td>\n",
       "    </tr>\n",
       "    <tr>\n",
       "      <th>514318</th>\n",
       "      <td>0</td>\n",
       "      <td>1040</td>\n",
       "      <td>3</td>\n",
       "      <td>81</td>\n",
       "      <td>0</td>\n",
       "      <td>2</td>\n",
       "      <td>1</td>\n",
       "      <td>130</td>\n",
       "      <td>0</td>\n",
       "    </tr>\n",
       "    <tr>\n",
       "      <th>514319</th>\n",
       "      <td>0</td>\n",
       "      <td>1040</td>\n",
       "      <td>40</td>\n",
       "      <td>81</td>\n",
       "      <td>0</td>\n",
       "      <td>2</td>\n",
       "      <td>1</td>\n",
       "      <td>130</td>\n",
       "      <td>0</td>\n",
       "    </tr>\n",
       "  </tbody>\n",
       "</table>\n",
       "<p>514320 rows × 9 columns</p>\n",
       "</div>"
      ],
      "text/plain": [
       "        count  time  trial  stimulus  coherence  choice  correct  unit  \\\n",
       "0           0     0      1        71          0       1        1   107   \n",
       "1           0     0     22        71          0       1        1   107   \n",
       "2           0     0     31        71          0       1        1   107   \n",
       "3           0     0     46        71          0       1        1   107   \n",
       "4           0     0     61        71          0       1        1   107   \n",
       "...       ...   ...    ...       ...        ...     ...      ...   ...   \n",
       "514315      0  1040     17        81          0       2        1   129   \n",
       "514316      0  1040     58        81          0       2        1   129   \n",
       "514317      0  1040     67        81          0       2        1   129   \n",
       "514318      0  1040      3        81          0       2        1   130   \n",
       "514319      0  1040     40        81          0       2        1   130   \n",
       "\n",
       "        into_RF  \n",
       "0             1  \n",
       "1             1  \n",
       "2             1  \n",
       "3             1  \n",
       "4             1  \n",
       "...         ...  \n",
       "514315        0  \n",
       "514316        0  \n",
       "514317        0  \n",
       "514318        0  \n",
       "514319        0  \n",
       "\n",
       "[514320 rows x 9 columns]"
      ]
     },
     "execution_count": 5,
     "metadata": {},
     "output_type": "execute_result"
    }
   ],
   "source": [
    "roitman_data  "
   ]
  },
  {
   "cell_type": "code",
   "execution_count": 101,
   "id": "a47465f6-6950-48a8-8ac0-15e4823fe7b5",
   "metadata": {
    "execution": {
     "iopub.execute_input": "2022-02-09T23:31:33.738634Z",
     "iopub.status.busy": "2022-02-09T23:31:33.738231Z",
     "iopub.status.idle": "2022-02-09T23:31:33.775846Z",
     "shell.execute_reply": "2022-02-09T23:31:33.775571Z",
     "shell.execute_reply.started": "2022-02-09T23:31:33.738598Z"
    },
    "tags": []
   },
   "outputs": [],
   "source": [
    "class spike_bins:\n",
    "    def __init__(self, coherence, correct, raw_spikes):\n",
    "        self.coherence = coherence \n",
    "        self.correct = correct \n",
    "        self.raw_spikes = raw_spikes\n",
    "        self.get_counts()\n",
    "        \n",
    "    def get_counts(self):\n",
    "        counts = np.empty([0], dtype=int)\n",
    "        input_pd = self.raw_spikes\n",
    "        num_units = 0 \n",
    "        for i in range(num_timepoints+1):\n",
    "            counts = np.append(counts, sum(input_pd[input_pd['time'] == i*5]['count']))\n",
    "            num_units += len(input_pd[input_pd['time'] == i*5])\n",
    "        #output_counts = pd.DataFrame(np.vstack((np.array(range(num_timepoints+1))*5, counts)).T, columns = ['times', 'total_spikes'])\n",
    "        setattr(self, \"total_spikes\", counts)"
   ]
  },
  {
   "cell_type": "code",
   "execution_count": 102,
   "id": "7d60ffc9-cea5-4f65-bad6-f2f1e623d7ad",
   "metadata": {
    "execution": {
     "iopub.execute_input": "2022-02-09T23:31:33.905270Z",
     "iopub.status.busy": "2022-02-09T23:31:33.904827Z",
     "iopub.status.idle": "2022-02-09T23:31:34.576770Z",
     "shell.execute_reply": "2022-02-09T23:31:34.576510Z",
     "shell.execute_reply.started": "2022-02-09T23:31:33.905244Z"
    },
    "tags": []
   },
   "outputs": [],
   "source": [
    "spikes = [] \n",
    "for value in roitman_data.coherence.unique():\n",
    "    spikes.append(spike_bins(value, 'correct', \n",
    "                             roitman_data[(roitman_data.coherence == value) & (roitman_data.correct == 1)]))\n",
    "    \n",
    "    spikes.append(spike_bins(value, 'incorrect', \n",
    "                             roitman_data[(roitman_data.coherence == value) & (roitman_data.correct == 0)]))"
   ]
  },
  {
   "cell_type": "code",
   "execution_count": 103,
   "id": "fa15e0db-fc91-47cf-9cb0-c55886096d71",
   "metadata": {
    "execution": {
     "iopub.execute_input": "2022-02-09T23:31:34.577537Z",
     "iopub.status.busy": "2022-02-09T23:31:34.577464Z",
     "iopub.status.idle": "2022-02-09T23:31:34.579859Z",
     "shell.execute_reply": "2022-02-09T23:31:34.579578Z",
     "shell.execute_reply.started": "2022-02-09T23:31:34.577528Z"
    },
    "tags": []
   },
   "outputs": [
    {
     "data": {
      "text/plain": [
       "12"
      ]
     },
     "execution_count": 103,
     "metadata": {},
     "output_type": "execute_result"
    }
   ],
   "source": [
    "len(spikes)"
   ]
  },
  {
   "cell_type": "code",
   "execution_count": 104,
   "id": "10eb65ad-11bf-460c-8d39-4885d8d6f116",
   "metadata": {
    "execution": {
     "iopub.execute_input": "2022-02-09T23:31:34.580367Z",
     "iopub.status.busy": "2022-02-09T23:31:34.580284Z",
     "iopub.status.idle": "2022-02-09T23:31:34.602663Z",
     "shell.execute_reply": "2022-02-09T23:31:34.602217Z",
     "shell.execute_reply.started": "2022-02-09T23:31:34.580358Z"
    },
    "tags": []
   },
   "outputs": [
    {
     "data": {
      "text/html": [
       "<div>\n",
       "<style scoped>\n",
       "    .dataframe tbody tr th:only-of-type {\n",
       "        vertical-align: middle;\n",
       "    }\n",
       "\n",
       "    .dataframe tbody tr th {\n",
       "        vertical-align: top;\n",
       "    }\n",
       "\n",
       "    .dataframe thead th {\n",
       "        text-align: right;\n",
       "    }\n",
       "</style>\n",
       "<table border=\"1\" class=\"dataframe\">\n",
       "  <thead>\n",
       "    <tr style=\"text-align: right;\">\n",
       "      <th></th>\n",
       "      <th>count</th>\n",
       "      <th>time</th>\n",
       "      <th>trial</th>\n",
       "      <th>stimulus</th>\n",
       "      <th>coherence</th>\n",
       "      <th>choice</th>\n",
       "      <th>correct</th>\n",
       "      <th>unit</th>\n",
       "      <th>into_RF</th>\n",
       "    </tr>\n",
       "  </thead>\n",
       "  <tbody>\n",
       "    <tr>\n",
       "      <th>412766</th>\n",
       "      <td>1</td>\n",
       "      <td>0</td>\n",
       "      <td>21</td>\n",
       "      <td>83</td>\n",
       "      <td>64</td>\n",
       "      <td>1</td>\n",
       "      <td>0</td>\n",
       "      <td>623</td>\n",
       "      <td>0</td>\n",
       "    </tr>\n",
       "    <tr>\n",
       "      <th>412942</th>\n",
       "      <td>0</td>\n",
       "      <td>5</td>\n",
       "      <td>21</td>\n",
       "      <td>83</td>\n",
       "      <td>64</td>\n",
       "      <td>1</td>\n",
       "      <td>0</td>\n",
       "      <td>623</td>\n",
       "      <td>0</td>\n",
       "    </tr>\n",
       "    <tr>\n",
       "      <th>413118</th>\n",
       "      <td>0</td>\n",
       "      <td>10</td>\n",
       "      <td>21</td>\n",
       "      <td>83</td>\n",
       "      <td>64</td>\n",
       "      <td>1</td>\n",
       "      <td>0</td>\n",
       "      <td>623</td>\n",
       "      <td>0</td>\n",
       "    </tr>\n",
       "    <tr>\n",
       "      <th>413294</th>\n",
       "      <td>0</td>\n",
       "      <td>15</td>\n",
       "      <td>21</td>\n",
       "      <td>83</td>\n",
       "      <td>64</td>\n",
       "      <td>1</td>\n",
       "      <td>0</td>\n",
       "      <td>623</td>\n",
       "      <td>0</td>\n",
       "    </tr>\n",
       "    <tr>\n",
       "      <th>413470</th>\n",
       "      <td>1</td>\n",
       "      <td>20</td>\n",
       "      <td>21</td>\n",
       "      <td>83</td>\n",
       "      <td>64</td>\n",
       "      <td>1</td>\n",
       "      <td>0</td>\n",
       "      <td>623</td>\n",
       "      <td>0</td>\n",
       "    </tr>\n",
       "    <tr>\n",
       "      <th>...</th>\n",
       "      <td>...</td>\n",
       "      <td>...</td>\n",
       "      <td>...</td>\n",
       "      <td>...</td>\n",
       "      <td>...</td>\n",
       "      <td>...</td>\n",
       "      <td>...</td>\n",
       "      <td>...</td>\n",
       "      <td>...</td>\n",
       "    </tr>\n",
       "    <tr>\n",
       "      <th>488632</th>\n",
       "      <td>0</td>\n",
       "      <td>1005</td>\n",
       "      <td>35</td>\n",
       "      <td>73</td>\n",
       "      <td>64</td>\n",
       "      <td>2</td>\n",
       "      <td>0</td>\n",
       "      <td>615</td>\n",
       "      <td>1</td>\n",
       "    </tr>\n",
       "    <tr>\n",
       "      <th>488828</th>\n",
       "      <td>0</td>\n",
       "      <td>1010</td>\n",
       "      <td>35</td>\n",
       "      <td>73</td>\n",
       "      <td>64</td>\n",
       "      <td>2</td>\n",
       "      <td>0</td>\n",
       "      <td>615</td>\n",
       "      <td>1</td>\n",
       "    </tr>\n",
       "    <tr>\n",
       "      <th>489024</th>\n",
       "      <td>0</td>\n",
       "      <td>1015</td>\n",
       "      <td>35</td>\n",
       "      <td>73</td>\n",
       "      <td>64</td>\n",
       "      <td>2</td>\n",
       "      <td>0</td>\n",
       "      <td>615</td>\n",
       "      <td>1</td>\n",
       "    </tr>\n",
       "    <tr>\n",
       "      <th>489220</th>\n",
       "      <td>0</td>\n",
       "      <td>1020</td>\n",
       "      <td>35</td>\n",
       "      <td>73</td>\n",
       "      <td>64</td>\n",
       "      <td>2</td>\n",
       "      <td>0</td>\n",
       "      <td>615</td>\n",
       "      <td>1</td>\n",
       "    </tr>\n",
       "    <tr>\n",
       "      <th>489416</th>\n",
       "      <td>0</td>\n",
       "      <td>1025</td>\n",
       "      <td>35</td>\n",
       "      <td>73</td>\n",
       "      <td>64</td>\n",
       "      <td>2</td>\n",
       "      <td>0</td>\n",
       "      <td>615</td>\n",
       "      <td>1</td>\n",
       "    </tr>\n",
       "  </tbody>\n",
       "</table>\n",
       "<p>412 rows × 9 columns</p>\n",
       "</div>"
      ],
      "text/plain": [
       "        count  time  trial  stimulus  coherence  choice  correct  unit  \\\n",
       "412766      1     0     21        83         64       1        0   623   \n",
       "412942      0     5     21        83         64       1        0   623   \n",
       "413118      0    10     21        83         64       1        0   623   \n",
       "413294      0    15     21        83         64       1        0   623   \n",
       "413470      1    20     21        83         64       1        0   623   \n",
       "...       ...   ...    ...       ...        ...     ...      ...   ...   \n",
       "488632      0  1005     35        73         64       2        0   615   \n",
       "488828      0  1010     35        73         64       2        0   615   \n",
       "489024      0  1015     35        73         64       2        0   615   \n",
       "489220      0  1020     35        73         64       2        0   615   \n",
       "489416      0  1025     35        73         64       2        0   615   \n",
       "\n",
       "        into_RF  \n",
       "412766        0  \n",
       "412942        0  \n",
       "413118        0  \n",
       "413294        0  \n",
       "413470        0  \n",
       "...         ...  \n",
       "488632        1  \n",
       "488828        1  \n",
       "489024        1  \n",
       "489220        1  \n",
       "489416        1  \n",
       "\n",
       "[412 rows x 9 columns]"
      ]
     },
     "execution_count": 104,
     "metadata": {},
     "output_type": "execute_result"
    }
   ],
   "source": [
    "spikes[11].raw_spikes"
   ]
  },
  {
   "cell_type": "code",
   "execution_count": 105,
   "id": "62228b04-731d-40a4-8ad5-1d3545af981c",
   "metadata": {
    "execution": {
     "iopub.execute_input": "2022-02-09T23:31:34.604718Z",
     "iopub.status.busy": "2022-02-09T23:31:34.604548Z",
     "iopub.status.idle": "2022-02-09T23:31:34.607940Z",
     "shell.execute_reply": "2022-02-09T23:31:34.607410Z",
     "shell.execute_reply.started": "2022-02-09T23:31:34.604697Z"
    },
    "tags": []
   },
   "outputs": [
    {
     "data": {
      "text/plain": [
       "['__class__',\n",
       " '__delattr__',\n",
       " '__dict__',\n",
       " '__dir__',\n",
       " '__doc__',\n",
       " '__eq__',\n",
       " '__format__',\n",
       " '__ge__',\n",
       " '__getattribute__',\n",
       " '__gt__',\n",
       " '__hash__',\n",
       " '__init__',\n",
       " '__init_subclass__',\n",
       " '__le__',\n",
       " '__lt__',\n",
       " '__module__',\n",
       " '__ne__',\n",
       " '__new__',\n",
       " '__reduce__',\n",
       " '__reduce_ex__',\n",
       " '__repr__',\n",
       " '__setattr__',\n",
       " '__sizeof__',\n",
       " '__str__',\n",
       " '__subclasshook__',\n",
       " '__weakref__',\n",
       " 'coherence',\n",
       " 'correct',\n",
       " 'get_counts',\n",
       " 'raw_spikes',\n",
       " 'total_spikes']"
      ]
     },
     "execution_count": 105,
     "metadata": {},
     "output_type": "execute_result"
    }
   ],
   "source": [
    "dir(spikes[10])"
   ]
  },
  {
   "cell_type": "code",
   "execution_count": 106,
   "id": "df516169-81a6-4cf3-89fd-347ff0107cfd",
   "metadata": {
    "execution": {
     "iopub.execute_input": "2022-02-09T23:31:34.947242Z",
     "iopub.status.busy": "2022-02-09T23:31:34.946777Z",
     "iopub.status.idle": "2022-02-09T23:31:34.963643Z",
     "shell.execute_reply": "2022-02-09T23:31:34.963080Z",
     "shell.execute_reply.started": "2022-02-09T23:31:34.947213Z"
    },
    "tags": []
   },
   "outputs": [
    {
     "data": {
      "text/plain": [
       "array([74, 63, 57, 59, 73, 74, 79, 58, 60, 53, 62, 75, 61, 64, 57, 65, 73,\n",
       "       79, 65, 63, 74, 74, 68, 69, 60, 69, 78, 52, 73, 61, 64, 81, 74, 74,\n",
       "       65, 65, 59, 59, 56, 56, 76, 62, 67, 70, 58, 71, 58, 71, 67, 62, 59,\n",
       "       66, 58, 80, 72, 65, 78, 62, 73, 51, 68, 63, 76, 70, 71, 63, 63, 56,\n",
       "       71, 72, 67, 64, 65, 77, 73, 65, 62, 66, 56, 64, 72, 71, 71, 54, 64,\n",
       "       70, 59, 63, 65, 77, 76, 66, 62, 72, 58, 68, 61, 63, 52, 64, 72, 67,\n",
       "       74, 53, 67, 66, 72, 67, 72, 77, 56, 76, 65, 67, 71, 71, 60, 66, 71,\n",
       "       67, 73, 85, 48, 61, 73, 53, 63, 63, 58, 65, 52, 65, 60, 76, 57, 72,\n",
       "       80, 74, 58, 60, 51, 54, 70, 74, 66, 59, 58, 53, 66, 81, 58, 66, 67,\n",
       "       74, 67, 62, 65, 67, 47, 58, 57, 66, 59, 60, 70, 55, 72, 64, 50, 63,\n",
       "       64, 63, 57, 57, 68, 56, 57, 66, 63, 63, 58, 68, 54, 71, 65, 58, 64,\n",
       "       63, 63, 51, 73, 77, 58, 72, 64, 61, 70, 82, 54, 50, 61, 63, 66, 59,\n",
       "       62, 79, 27, 25, 37])"
      ]
     },
     "execution_count": 106,
     "metadata": {},
     "output_type": "execute_result"
    }
   ],
   "source": [
    "counts = spikes[10].total_spikes\n",
    "counts"
   ]
  },
  {
   "cell_type": "code",
   "execution_count": 107,
   "id": "2b334e26-7191-4219-a45c-817c015b331b",
   "metadata": {
    "execution": {
     "iopub.execute_input": "2022-02-09T23:31:44.146849Z",
     "iopub.status.busy": "2022-02-09T23:31:44.146569Z",
     "iopub.status.idle": "2022-02-09T23:31:44.155553Z",
     "shell.execute_reply": "2022-02-09T23:31:44.154694Z",
     "shell.execute_reply.started": "2022-02-09T23:31:44.146825Z"
    }
   },
   "outputs": [
    {
     "data": {
      "text/plain": [
       "0      74\n",
       "1      63\n",
       "2      57\n",
       "3      59\n",
       "4      73\n",
       "       ..\n",
       "204    62\n",
       "205    79\n",
       "206    27\n",
       "207    25\n",
       "208    37\n",
       "Length: 209, dtype: int64"
      ]
     },
     "execution_count": 107,
     "metadata": {},
     "output_type": "execute_result"
    }
   ],
   "source": [
    "pd.Series(counts)"
   ]
  },
  {
   "cell_type": "code",
   "execution_count": 111,
   "id": "4861efe7-6505-4b74-b6d1-e7a27ec75956",
   "metadata": {
    "execution": {
     "iopub.execute_input": "2022-02-09T23:32:54.921106Z",
     "iopub.status.busy": "2022-02-09T23:32:54.920746Z",
     "iopub.status.idle": "2022-02-09T23:32:54.944906Z",
     "shell.execute_reply": "2022-02-09T23:32:54.944342Z",
     "shell.execute_reply.started": "2022-02-09T23:32:54.921080Z"
    },
    "tags": []
   },
   "outputs": [
    {
     "data": {
      "text/plain": [
       "array([   nan,    nan,    nan,    nan,    nan,    nan,    nan, 67.125,\n",
       "       65.375, 64.125, 64.75 , 66.75 , 65.25 , 64.   , 61.25 , 62.125,\n",
       "       63.75 , 67.   , 67.375, 65.875, 67.5  , 68.75 , 70.125, 70.625,\n",
       "       69.   , 67.75 , 69.375, 68.   , 67.875, 66.25 , 65.75 , 67.25 ,\n",
       "       69.   , 69.625, 68.   , 69.625, 67.875, 67.625, 66.625, 63.5  ,\n",
       "       63.75 , 62.25 , 62.5  , 63.125, 63.   , 64.5  , 64.75 , 66.625,\n",
       "       65.5  , 65.5  , 64.5  , 64.   , 64.   , 65.125, 66.875, 66.125,\n",
       "       67.5  , 67.5  , 69.25 , 67.375, 68.625, 66.5  , 67.   , 67.625,\n",
       "       66.75 , 66.875, 65.625, 66.25 , 66.625, 67.75 , 66.625, 65.875,\n",
       "       65.125, 66.875, 68.125, 69.25 , 68.125, 67.375, 66.   , 66.   ,\n",
       "       66.875, 66.125, 65.875, 64.5  , 64.75 , 65.25 , 65.625, 65.5  ,\n",
       "       64.625, 65.375, 66.   , 67.5  , 67.25 , 67.5  , 67.375, 68.   ,\n",
       "       67.5  , 65.75 , 62.75 , 62.5  , 63.75 , 63.125, 65.125, 63.25 ,\n",
       "       64.   , 64.375, 66.875, 67.25 , 67.25 , 68.5  , 66.25 , 69.125,\n",
       "       68.875, 69.   , 68.875, 69.375, 67.875, 66.5  , 68.375, 67.25 ,\n",
       "       68.25 , 70.5  , 67.625, 66.375, 68.   , 66.375, 65.375, 64.875,\n",
       "       63.   , 60.5  , 61.   , 61.5  , 59.875, 62.75 , 62.   , 63.125,\n",
       "       65.875, 67.   , 67.75 , 67.125, 66.   , 63.25 , 64.875, 65.125,\n",
       "       63.375, 61.5  , 61.5  , 60.625, 62.5  , 65.875, 64.375, 63.375,\n",
       "       63.5  , 65.375, 66.5  , 67.625, 67.5  , 65.75 , 64.375, 63.375,\n",
       "       62.125, 61.125, 60.125, 59.875, 60.5  , 59.   , 62.125, 62.875,\n",
       "       62.   , 61.625, 62.25 , 62.625, 61.   , 61.25 , 60.75 , 59.75 ,\n",
       "       60.625, 61.   , 60.875, 60.875, 61.   , 62.375, 60.625, 62.5  ,\n",
       "       63.5  , 62.5  , 62.625, 62.625, 63.25 , 61.125, 63.5  , 64.25 ,\n",
       "       63.375, 65.125, 65.125, 64.875, 65.75 , 69.625, 67.25 , 63.875,\n",
       "       64.25 , 63.125, 63.375, 63.125, 62.125, 61.75 , 58.375, 55.25 ,\n",
       "       52.25 ])"
      ]
     },
     "execution_count": 111,
     "metadata": {},
     "output_type": "execute_result"
    }
   ],
   "source": [
    "np.array(pd.Series(counts).rolling(8).mean())"
   ]
  },
  {
   "cell_type": "code",
   "execution_count": null,
   "id": "99e46733-b520-40e5-a36e-8771fbdfdd54",
   "metadata": {},
   "outputs": [],
   "source": []
  },
  {
   "cell_type": "code",
   "execution_count": null,
   "id": "13b38300-aba6-46e7-b03d-72209b4197c1",
   "metadata": {},
   "outputs": [],
   "source": []
  },
  {
   "cell_type": "code",
   "execution_count": 109,
   "id": "95cda48f-0bb4-4278-898a-d72344475ae5",
   "metadata": {
    "execution": {
     "iopub.execute_input": "2022-02-09T23:32:23.813710Z",
     "iopub.status.busy": "2022-02-09T23:32:23.813425Z",
     "iopub.status.idle": "2022-02-09T23:32:23.840619Z",
     "shell.execute_reply": "2022-02-09T23:32:23.840237Z",
     "shell.execute_reply.started": "2022-02-09T23:32:23.813685Z"
    }
   },
   "outputs": [
    {
     "data": {
      "text/plain": [
       "Rolling [window=8,center=False,axis=0,method=single]"
      ]
     },
     "execution_count": 109,
     "metadata": {},
     "output_type": "execute_result"
    }
   ],
   "source": [
    "windows"
   ]
  },
  {
   "cell_type": "code",
   "execution_count": null,
   "id": "ca90f91d-a4c7-42fd-b1aa-0455a206ef73",
   "metadata": {},
   "outputs": [],
   "source": []
  }
 ],
 "metadata": {
  "kernelspec": {
   "display_name": "Quantitative_Neurobiology",
   "language": "python",
   "name": "quantitative_neurobiology"
  },
  "language_info": {
   "codemirror_mode": {
    "name": "ipython",
    "version": 3
   },
   "file_extension": ".py",
   "mimetype": "text/x-python",
   "name": "python",
   "nbconvert_exporter": "python",
   "pygments_lexer": "ipython3",
   "version": "3.10.0"
  }
 },
 "nbformat": 4,
 "nbformat_minor": 5
}
