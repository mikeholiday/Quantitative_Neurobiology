{
 "cells": [
  {
   "cell_type": "code",
   "execution_count": 1,
   "id": "fb8c39cb-1f29-4112-a907-7a7cfe840dab",
   "metadata": {
    "execution": {
     "iopub.execute_input": "2022-02-08T01:26:30.027029Z",
     "iopub.status.busy": "2022-02-08T01:26:30.026917Z",
     "iopub.status.idle": "2022-02-08T01:26:30.602066Z",
     "shell.execute_reply": "2022-02-08T01:26:30.601735Z",
     "shell.execute_reply.started": "2022-02-08T01:26:30.026992Z"
    },
    "tags": []
   },
   "outputs": [],
   "source": [
    "import pandas as pd\n",
    "import matplotlib.pyplot as plt\n",
    "import numpy as np"
   ]
  },
  {
   "cell_type": "code",
   "execution_count": 2,
   "id": "d75ef069-febe-4d5e-ad3d-2944ebe34347",
   "metadata": {
    "execution": {
     "iopub.execute_input": "2022-02-08T01:26:30.602573Z",
     "iopub.status.busy": "2022-02-08T01:26:30.602512Z",
     "iopub.status.idle": "2022-02-08T01:26:30.607799Z",
     "shell.execute_reply": "2022-02-08T01:26:30.607489Z",
     "shell.execute_reply.started": "2022-02-08T01:26:30.602565Z"
    },
    "tags": []
   },
   "outputs": [],
   "source": [
    "%matplotlib inline \n",
    "%config Completer.use_jedi = False"
   ]
  },
  {
   "cell_type": "code",
   "execution_count": 3,
   "id": "f4b227f1-c2ab-4012-9857-3f968370ceff",
   "metadata": {
    "execution": {
     "iopub.execute_input": "2022-02-08T01:26:30.817621Z",
     "iopub.status.busy": "2022-02-08T01:26:30.816984Z",
     "iopub.status.idle": "2022-02-08T01:26:30.824509Z",
     "shell.execute_reply": "2022-02-08T01:26:30.823652Z",
     "shell.execute_reply.started": "2022-02-08T01:26:30.817585Z"
    },
    "tags": []
   },
   "outputs": [],
   "source": [
    "# Average firing rate smoothed using 60 msec running mean \n",
    "# Only correct choices were included "
   ]
  },
  {
   "cell_type": "code",
   "execution_count": 8,
   "id": "5c67ae7b-9bea-4294-ac6c-185949a82900",
   "metadata": {
    "execution": {
     "iopub.execute_input": "2022-02-08T01:29:52.463582Z",
     "iopub.status.busy": "2022-02-08T01:29:52.463067Z",
     "iopub.status.idle": "2022-02-08T01:29:52.572996Z",
     "shell.execute_reply": "2022-02-08T01:29:52.572713Z",
     "shell.execute_reply.started": "2022-02-08T01:29:52.463533Z"
    },
    "tags": []
   },
   "outputs": [],
   "source": [
    "roitman_data = pd.read_csv(\"roitman_data.csv\")\n",
    "max_time = roitman_data['time'].max() # why does python not have constant/static variables \n",
    "num_timepoints = int(max_time/5)"
   ]
  },
  {
   "cell_type": "code",
   "execution_count": null,
   "id": "73d5ae71-4884-4508-aae9-a8115725a6ff",
   "metadata": {
    "tags": []
   },
   "outputs": [],
   "source": []
  },
  {
   "cell_type": "code",
   "execution_count": 9,
   "id": "7c17254b-531b-4bee-83b8-4457cc01c114",
   "metadata": {
    "execution": {
     "iopub.execute_input": "2022-02-08T01:29:53.512151Z",
     "iopub.status.busy": "2022-02-08T01:29:53.511486Z",
     "iopub.status.idle": "2022-02-08T01:29:53.534855Z",
     "shell.execute_reply": "2022-02-08T01:29:53.534376Z",
     "shell.execute_reply.started": "2022-02-08T01:29:53.512109Z"
    },
    "tags": []
   },
   "outputs": [
    {
     "data": {
      "text/html": [
       "<div>\n",
       "<style scoped>\n",
       "    .dataframe tbody tr th:only-of-type {\n",
       "        vertical-align: middle;\n",
       "    }\n",
       "\n",
       "    .dataframe tbody tr th {\n",
       "        vertical-align: top;\n",
       "    }\n",
       "\n",
       "    .dataframe thead th {\n",
       "        text-align: right;\n",
       "    }\n",
       "</style>\n",
       "<table border=\"1\" class=\"dataframe\">\n",
       "  <thead>\n",
       "    <tr style=\"text-align: right;\">\n",
       "      <th></th>\n",
       "      <th>count</th>\n",
       "      <th>time</th>\n",
       "      <th>trial</th>\n",
       "      <th>stimulus</th>\n",
       "      <th>coherence</th>\n",
       "      <th>choice</th>\n",
       "      <th>correct</th>\n",
       "      <th>unit</th>\n",
       "      <th>into_RF</th>\n",
       "    </tr>\n",
       "  </thead>\n",
       "  <tbody>\n",
       "    <tr>\n",
       "      <th>0</th>\n",
       "      <td>0</td>\n",
       "      <td>0</td>\n",
       "      <td>1</td>\n",
       "      <td>71</td>\n",
       "      <td>0</td>\n",
       "      <td>1</td>\n",
       "      <td>1</td>\n",
       "      <td>107</td>\n",
       "      <td>1</td>\n",
       "    </tr>\n",
       "    <tr>\n",
       "      <th>1</th>\n",
       "      <td>0</td>\n",
       "      <td>0</td>\n",
       "      <td>22</td>\n",
       "      <td>71</td>\n",
       "      <td>0</td>\n",
       "      <td>1</td>\n",
       "      <td>1</td>\n",
       "      <td>107</td>\n",
       "      <td>1</td>\n",
       "    </tr>\n",
       "    <tr>\n",
       "      <th>2</th>\n",
       "      <td>0</td>\n",
       "      <td>0</td>\n",
       "      <td>31</td>\n",
       "      <td>71</td>\n",
       "      <td>0</td>\n",
       "      <td>1</td>\n",
       "      <td>1</td>\n",
       "      <td>107</td>\n",
       "      <td>1</td>\n",
       "    </tr>\n",
       "    <tr>\n",
       "      <th>3</th>\n",
       "      <td>0</td>\n",
       "      <td>0</td>\n",
       "      <td>46</td>\n",
       "      <td>71</td>\n",
       "      <td>0</td>\n",
       "      <td>1</td>\n",
       "      <td>1</td>\n",
       "      <td>107</td>\n",
       "      <td>1</td>\n",
       "    </tr>\n",
       "    <tr>\n",
       "      <th>4</th>\n",
       "      <td>0</td>\n",
       "      <td>0</td>\n",
       "      <td>61</td>\n",
       "      <td>71</td>\n",
       "      <td>0</td>\n",
       "      <td>1</td>\n",
       "      <td>1</td>\n",
       "      <td>107</td>\n",
       "      <td>1</td>\n",
       "    </tr>\n",
       "    <tr>\n",
       "      <th>...</th>\n",
       "      <td>...</td>\n",
       "      <td>...</td>\n",
       "      <td>...</td>\n",
       "      <td>...</td>\n",
       "      <td>...</td>\n",
       "      <td>...</td>\n",
       "      <td>...</td>\n",
       "      <td>...</td>\n",
       "      <td>...</td>\n",
       "    </tr>\n",
       "    <tr>\n",
       "      <th>514315</th>\n",
       "      <td>0</td>\n",
       "      <td>1040</td>\n",
       "      <td>17</td>\n",
       "      <td>81</td>\n",
       "      <td>0</td>\n",
       "      <td>2</td>\n",
       "      <td>1</td>\n",
       "      <td>129</td>\n",
       "      <td>0</td>\n",
       "    </tr>\n",
       "    <tr>\n",
       "      <th>514316</th>\n",
       "      <td>0</td>\n",
       "      <td>1040</td>\n",
       "      <td>58</td>\n",
       "      <td>81</td>\n",
       "      <td>0</td>\n",
       "      <td>2</td>\n",
       "      <td>1</td>\n",
       "      <td>129</td>\n",
       "      <td>0</td>\n",
       "    </tr>\n",
       "    <tr>\n",
       "      <th>514317</th>\n",
       "      <td>0</td>\n",
       "      <td>1040</td>\n",
       "      <td>67</td>\n",
       "      <td>81</td>\n",
       "      <td>0</td>\n",
       "      <td>2</td>\n",
       "      <td>1</td>\n",
       "      <td>129</td>\n",
       "      <td>0</td>\n",
       "    </tr>\n",
       "    <tr>\n",
       "      <th>514318</th>\n",
       "      <td>0</td>\n",
       "      <td>1040</td>\n",
       "      <td>3</td>\n",
       "      <td>81</td>\n",
       "      <td>0</td>\n",
       "      <td>2</td>\n",
       "      <td>1</td>\n",
       "      <td>130</td>\n",
       "      <td>0</td>\n",
       "    </tr>\n",
       "    <tr>\n",
       "      <th>514319</th>\n",
       "      <td>0</td>\n",
       "      <td>1040</td>\n",
       "      <td>40</td>\n",
       "      <td>81</td>\n",
       "      <td>0</td>\n",
       "      <td>2</td>\n",
       "      <td>1</td>\n",
       "      <td>130</td>\n",
       "      <td>0</td>\n",
       "    </tr>\n",
       "  </tbody>\n",
       "</table>\n",
       "<p>514320 rows × 9 columns</p>\n",
       "</div>"
      ],
      "text/plain": [
       "        count  time  trial  stimulus  coherence  choice  correct  unit  \\\n",
       "0           0     0      1        71          0       1        1   107   \n",
       "1           0     0     22        71          0       1        1   107   \n",
       "2           0     0     31        71          0       1        1   107   \n",
       "3           0     0     46        71          0       1        1   107   \n",
       "4           0     0     61        71          0       1        1   107   \n",
       "...       ...   ...    ...       ...        ...     ...      ...   ...   \n",
       "514315      0  1040     17        81          0       2        1   129   \n",
       "514316      0  1040     58        81          0       2        1   129   \n",
       "514317      0  1040     67        81          0       2        1   129   \n",
       "514318      0  1040      3        81          0       2        1   130   \n",
       "514319      0  1040     40        81          0       2        1   130   \n",
       "\n",
       "        into_RF  \n",
       "0             1  \n",
       "1             1  \n",
       "2             1  \n",
       "3             1  \n",
       "4             1  \n",
       "...         ...  \n",
       "514315        0  \n",
       "514316        0  \n",
       "514317        0  \n",
       "514318        0  \n",
       "514319        0  \n",
       "\n",
       "[514320 rows x 9 columns]"
      ]
     },
     "execution_count": 9,
     "metadata": {},
     "output_type": "execute_result"
    }
   ],
   "source": [
    "roitman_data  "
   ]
  },
  {
   "cell_type": "code",
   "execution_count": null,
   "id": "358cc0c0-a600-44a8-8d3a-e5b8f1fff5f9",
   "metadata": {
    "tags": []
   },
   "outputs": [],
   "source": [
    "roitman_data[roitman_data['unit'] == 107]"
   ]
  },
  {
   "cell_type": "code",
   "execution_count": null,
   "id": "c8901af7-8e48-4a7d-9fee-3644aece6faa",
   "metadata": {
    "tags": []
   },
   "outputs": [],
   "source": [
    "time_0 = roitman_data[roitman_data['time'] == 0]"
   ]
  },
  {
   "cell_type": "code",
   "execution_count": null,
   "id": "1428ae91-fc6c-4754-8305-3eaeb3b25720",
   "metadata": {
    "tags": []
   },
   "outputs": [],
   "source": [
    "time_0[time_0['stimulus'] == 71]"
   ]
  },
  {
   "cell_type": "code",
   "execution_count": null,
   "id": "fadc10f4-e102-4510-a659-cedc314152c1",
   "metadata": {},
   "outputs": [],
   "source": [
    "time_0"
   ]
  },
  {
   "cell_type": "code",
   "execution_count": 14,
   "id": "ae4f767b-0fa5-4419-8d52-2be69d37c104",
   "metadata": {
    "execution": {
     "iopub.execute_input": "2022-02-08T01:39:24.542588Z",
     "iopub.status.busy": "2022-02-08T01:39:24.541783Z",
     "iopub.status.idle": "2022-02-08T01:39:24.572374Z",
     "shell.execute_reply": "2022-02-08T01:39:24.571896Z",
     "shell.execute_reply.started": "2022-02-08T01:39:24.542553Z"
    },
    "tags": []
   },
   "outputs": [],
   "source": [
    "coherence_0 = roitman_data[roitman_data['coherence'] == 0]\n",
    "coherence_32 = roitman_data[roitman_data['coherence'] == 32]\n",
    "coherence_64 = roitman_data[roitman_data['coherence'] == 64]\n",
    "coherence_128 = roitman_data[roitman_data['coherence'] == 128]\n",
    "coherence_512 = roitman_data[roitman_data['coherence'] == 512]"
   ]
  },
  {
   "cell_type": "code",
   "execution_count": null,
   "id": "798dd486-dbc7-426d-b437-68acfc0db5a7",
   "metadata": {},
   "outputs": [],
   "source": [
    "len(roitman_data) == len(coherence_0) + len(coherence_64) + len(coherence_32) + "
   ]
  },
  {
   "cell_type": "code",
   "execution_count": 12,
   "id": "29b530b4-cc63-45ab-87f5-b4a1928b150e",
   "metadata": {
    "execution": {
     "iopub.execute_input": "2022-02-08T01:37:50.570998Z",
     "iopub.status.busy": "2022-02-08T01:37:50.569596Z",
     "iopub.status.idle": "2022-02-08T01:37:50.614831Z",
     "shell.execute_reply": "2022-02-08T01:37:50.614566Z",
     "shell.execute_reply.started": "2022-02-08T01:37:50.570955Z"
    },
    "tags": []
   },
   "outputs": [
    {
     "data": {
      "text/plain": [
       "512"
      ]
     },
     "execution_count": 12,
     "metadata": {},
     "output_type": "execute_result"
    }
   ],
   "source": [
    "max(roitman_data[roitman_data['coherence'] != 0]['coherence'])"
   ]
  },
  {
   "cell_type": "code",
   "execution_count": 17,
   "id": "d52ed7d6-763b-4b7c-9745-cc5f009264a5",
   "metadata": {
    "execution": {
     "iopub.execute_input": "2022-02-08T01:41:09.976957Z",
     "iopub.status.busy": "2022-02-08T01:41:09.976237Z",
     "iopub.status.idle": "2022-02-08T01:41:09.994213Z",
     "shell.execute_reply": "2022-02-08T01:41:09.992788Z",
     "shell.execute_reply.started": "2022-02-08T01:41:09.976920Z"
    },
    "tags": []
   },
   "outputs": [
    {
     "data": {
      "text/plain": [
       "array([  0,  32, 128, 256, 512,  64])"
      ]
     },
     "execution_count": 17,
     "metadata": {},
     "output_type": "execute_result"
    }
   ],
   "source": [
    "roitman_data.coherence.unique()"
   ]
  },
  {
   "cell_type": "code",
   "execution_count": null,
   "id": "90bb8980-7ee3-45c0-9702-4c6cd50867b5",
   "metadata": {
    "tags": []
   },
   "outputs": [],
   "source": [
    "# Get it working for one trial then generalize \n",
    "trial_1 = roitman_data[roitman_data['trial'] == 1]"
   ]
  },
  {
   "cell_type": "code",
   "execution_count": null,
   "id": "9fe21663-0aeb-45ff-b60e-dbc19526b43f",
   "metadata": {},
   "outputs": [],
   "source": [
    "trial_1"
   ]
  },
  {
   "cell_type": "code",
   "execution_count": null,
   "id": "fd9c4fa5-e76f-4ed7-b234-a2d4b0d46795",
   "metadata": {
    "tags": []
   },
   "outputs": [],
   "source": [
    "len(trial_1[trial_1['time'] == 0])"
   ]
  },
  {
   "cell_type": "code",
   "execution_count": null,
   "id": "c90b3c58-4e24-49d5-915c-0f57678d4868",
   "metadata": {
    "tags": []
   },
   "outputs": [],
   "source": [
    "len(trial_1[trial_1['time'] == 5])"
   ]
  },
  {
   "cell_type": "code",
   "execution_count": null,
   "id": "2c6ffdbd-c791-40c2-84a2-f30f387198aa",
   "metadata": {
    "tags": []
   },
   "outputs": [],
   "source": [
    "np.append(output_counts, 5)"
   ]
  },
  {
   "cell_type": "code",
   "execution_count": null,
   "id": "699d0495-cc67-4659-9d3d-c31ef8a74044",
   "metadata": {
    "tags": []
   },
   "outputs": [],
   "source": []
  },
  {
   "cell_type": "code",
   "execution_count": null,
   "id": "276eacce-1d08-4e93-a464-88a3aff1d5e7",
   "metadata": {
    "tags": []
   },
   "outputs": [],
   "source": [
    "len(output_counts)"
   ]
  },
  {
   "cell_type": "code",
   "execution_count": null,
   "id": "ee5414e9-1ff6-485d-882c-52f837f18c18",
   "metadata": {
    "tags": []
   },
   "outputs": [],
   "source": [
    "output = np.empty([0], dtype=int)\n",
    "np.append(output, sum(trial_1[trial_1['time'] == 0]['count']))\n",
    "np.append(output, 10)"
   ]
  },
  {
   "cell_type": "code",
   "execution_count": null,
   "id": "654627d8-1b0f-4624-9380-afd99abbf874",
   "metadata": {
    "tags": []
   },
   "outputs": [],
   "source": [
    "def get_counts(input_pd):\n",
    "    output_counts = np.empty([0], dtype=int)\n",
    "    num_units = 0 \n",
    "    for i in range(num_timepoints+1):\n",
    "        output_counts = np.append(output_counts, sum(input_pd[input_pd['time'] == i*5]['count']))\n",
    "        num_units += len(input_pd[input_pd['time'] == i*5])\n",
    "        \n",
    "    if len(input_pd) == num_units: return output_counts\n",
    "    else: print(\"Not all units included\") "
   ]
  },
  {
   "cell_type": "code",
   "execution_count": null,
   "id": "fdbe0a1e-b7c3-479d-9a82-07c5c6f40566",
   "metadata": {
    "tags": []
   },
   "outputs": [],
   "source": [
    "get_counts(roitman_data)"
   ]
  },
  {
   "cell_type": "code",
   "execution_count": null,
   "id": "13088d77-4140-4c75-9957-0fdb11a0d876",
   "metadata": {},
   "outputs": [],
   "source": [
    "roitman_data"
   ]
  },
  {
   "cell_type": "code",
   "execution_count": null,
   "id": "4323e049-4a03-4a8c-8a79-ccbae1ff5839",
   "metadata": {
    "tags": []
   },
   "outputs": [],
   "source": [
    "trial_1[trial_1['time'] == 0]['count']"
   ]
  },
  {
   "cell_type": "code",
   "execution_count": null,
   "id": "8fe43aa0-c83a-443a-b606-f90e87345d1a",
   "metadata": {},
   "outputs": [],
   "source": []
  },
  {
   "cell_type": "code",
   "execution_count": null,
   "id": "2b334e26-7191-4219-a45c-817c015b331b",
   "metadata": {},
   "outputs": [],
   "source": []
  }
 ],
 "metadata": {
  "kernelspec": {
   "display_name": "Quantitative_Neurobiology",
   "language": "python",
   "name": "quantitative_neurobiology"
  },
  "language_info": {
   "codemirror_mode": {
    "name": "ipython",
    "version": 3
   },
   "file_extension": ".py",
   "mimetype": "text/x-python",
   "name": "python",
   "nbconvert_exporter": "python",
   "pygments_lexer": "ipython3",
   "version": "3.10.0"
  }
 },
 "nbformat": 4,
 "nbformat_minor": 5
}
